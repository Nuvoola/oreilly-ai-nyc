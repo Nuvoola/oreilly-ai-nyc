{
 "cells": [
  {
   "cell_type": "markdown",
   "metadata": {
    "deletable": true,
    "editable": true
   },
   "source": [
    "# Building a prediction API using a pre-trained MXNet model"
   ]
  },
  {
   "cell_type": "code",
   "execution_count": 1,
   "metadata": {
    "collapsed": false,
    "deletable": true,
    "editable": true
   },
   "outputs": [
    {
     "name": "stdout",
     "output_type": "stream",
     "text": [
      "just exit, we are not in a lambda function"
     ]
    },
    {
     "ename": "SystemExit",
     "evalue": "0",
     "output_type": "error",
     "traceback": [
      "An exception has occurred, use %tb to see the full traceback.\n",
      "\u001b[0;31mSystemExit\u001b[0m\u001b[0;31m:\u001b[0m 0\n"
     ]
    },
    {
     "name": "stderr",
     "output_type": "stream",
     "text": [
      "/usr/local/lib/python2.7/dist-packages/IPython/core/interactiveshell.py:2889: UserWarning: To exit: use 'exit', 'quit', or Ctrl-D.\n",
      "  warn(\"To exit: use 'exit', 'quit', or Ctrl-D.\", stacklevel=1)\n"
     ]
    }
   ],
   "source": [
    "'''\n",
    "Reference code to showcase MXNet model prediction on AWS Lambda.\n",
    "\n",
    "This function uses the geolocation model and predicts the lat/long for a given image and then\n",
    "using the geopy module, we reserve map that to a location - country/city\n",
    "\n",
    "@author: Sunil Mallya\n",
    "'''\n",
    "\n",
    "import base64\n",
    "import os\n",
    "import boto3\n",
    "import json\n",
    "import tempfile\n",
    "import urllib2 \n",
    "from urllib import urlretrieve\n",
    "\n",
    "# Check if Lambda Function\n",
    "if os.environ.get('LAMBDA_TASK_ROOT') is None:\n",
    "    print \"just exit, we are not in a lambda function\",\n",
    "    import sys; sys.exit(0)\n",
    "    \n",
    "from geopy.geocoders import Nominatim\n",
    "geolocator = Nominatim()\n",
    "    \n",
    "# del all files in tmp directory - just in case\n",
    "import os\n",
    "for f in os.listdir(\"/tmp\"):\n",
    "    f_path = \"/tmp/\" + f\n",
    "    os.unlink(f_path)\n",
    "\n",
    "import mxnet as mx\n",
    "import numpy as np\n",
    "\n",
    "from PIL import Image\n",
    "from io import BytesIO\n",
    "from collections import namedtuple\n",
    "Batch = namedtuple('Batch', ['data'])\n",
    "\n",
    "# Gloabls\n",
    "grids, ground_truth = [], {}\n",
    "\n",
    "f_params = 'geo/RN101-5k500-0012.params'\n",
    "f_symbol = 'geo/RN101-5k500-symbol.json'\n",
    "    \n",
    "bucket = 'smallya-test'\n",
    "s3 = boto3.resource('s3')\n",
    "s3_client = boto3.client('s3')\n",
    "\n",
    "# load labels\n",
    "with open('grids.txt', 'r') as f:\n",
    "    for line in f:\n",
    "        line = line.strip().split('\\t')\n",
    "        lat = float(line[1])\n",
    "        lng = float(line[2])\n",
    "        grids.append((lat, lng))\n",
    "\n",
    "# Load model\n",
    "def load_model(s_fname, p_fname):\n",
    "    \"\"\"\n",
    "    Load model checkpoint from file.\n",
    "    :return: (arg_params, aux_params)\n",
    "    arg_params : dict of str to NDArray\n",
    "        Model parameter, dict of name to NDArray of net's weights.\n",
    "    aux_params : dict of str to NDArray\n",
    "        Model parameter, dict of name to NDArray of net's auxiliary states.\n",
    "    \"\"\"\n",
    "    symbol = mx.symbol.load(s_fname)\n",
    "    save_dict = mx.nd.load(p_fname)\n",
    "    arg_params = {}\n",
    "    aux_params = {}\n",
    "    for k, v in save_dict.items():\n",
    "        tp, name = k.split(':', 1)\n",
    "        if tp == 'arg':\n",
    "            arg_params[name] = v\n",
    "        if tp == 'aux':\n",
    "            aux_params[name] = v\n",
    "    return symbol, arg_params, aux_params\n",
    "\n",
    "# load labels\n",
    "with open('grids.txt', 'r') as f:\n",
    "    for line in f:\n",
    "        line = line.strip().split('\\t')\n",
    "        lat = float(line[1])\n",
    "        lng = float(line[2])\n",
    "        grids.append((lat, lng))\n",
    "   \n",
    "mod = None\n",
    "\n",
    "#params\n",
    "f_params_file = tempfile.NamedTemporaryFile(delete=True)\n",
    "urlretrieve(\"https://s3.amazonaws.com/smallya-test/geo/RN101-5k500-0012.params\", f_params_file.name)\n",
    "f_params_file.flush()\n",
    "\n",
    "#symbol\n",
    "f_symbol_file = tempfile.NamedTemporaryFile(delete=True)\n",
    "urlretrieve(\"https://s3.amazonaws.com/smallya-test/geo/RN101-5k500-symbol.json\", f_symbol_file.name)\n",
    "f_symbol_file.flush()\n",
    "\n",
    "sym, arg_params, aux_params = load_model(f_symbol_file.name, f_params_file.name)\n",
    "mod = mx.mod.Module(symbol=sym, label_names=None)\n",
    "mod.bind(for_training=False, data_shapes=[('data', (1,3,224,224))], label_shapes=mod._label_shapes)\n",
    "mod.set_params(arg_params, aux_params, allow_missing=True)\n",
    "\n",
    "f_params_file.close()\n",
    "f_symbol_file.close()\n",
    "\n",
    "### Helpers\n",
    "def distance(p1, p2):\n",
    "        R = 6371 # Earth radius in km\n",
    "        lat1, lng1, lat2, lng2 = map(radians, (p1[0], p1[1], p2[0], p2[1]))\n",
    "        dlat = lat2 - lat1\n",
    "        dlng = lng2 - lng1\n",
    "        a = sin(dlat * 0.5) ** 2 + cos(lat1) * cos(lat2) * (sin(dlng * 0.5) ** 2)\n",
    "        return 2 * R * asin(sqrt(a))\n",
    "\n",
    "# mean image for preprocessing\n",
    "mean_rgb = np.array([123.68, 116.779, 103.939])\n",
    "mean_rgb = mean_rgb.reshape((3, 1, 1))\n",
    "\n",
    "def predict(url, dataurl):\n",
    "    '''\n",
    "    predict labels for a given image\n",
    "    '''\n",
    "\n",
    "    print \"downloading the image\"\n",
    "    img_file = tempfile.NamedTemporaryFile(delete=True)\n",
    "    if url:\n",
    "        req = urllib2.urlopen(url)\n",
    "        img_file.write(req.read())\n",
    "        img_file.flush()\n",
    "        img = Image.open(img_file.name)\n",
    "    elif dataurl:\n",
    "        #convert to image\n",
    "        img_data = dataurl.split(\",\")[1]\n",
    "        if img_data[-2] != \"=\":\n",
    "            img_data += \"=\" # pad it \n",
    "        img = Image.open(BytesIO(base64.b64decode(img_data))) \n",
    "        img = img.convert('RGB')\n",
    "\n",
    "    img_file.close()\n",
    "    \n",
    "    # center crop and no resize\n",
    "    # ** width, height must be greater than new_width, new_height \n",
    "    #new_width, new_height = 224, 224\n",
    "    #width, height = img.size   # Get dimensions\n",
    "    #left = (width - new_width)/2\n",
    "    #top = (height - new_height)/2\n",
    "    #right = (width + new_width)/2\n",
    "    #bottom = (height + new_height)/2\n",
    "    #img = img.crop((left, top, right, bottom))\n",
    "\n",
    "    # preprocess by cropping to shorter side and then resize\n",
    "    short_side = min(img.size)\n",
    "    left = int((img.size[0] - short_side) / 2)\n",
    "    right = left + short_side\n",
    "    top = int((img.size[1] - short_side) / 2)\n",
    "    bottom = top + short_side\n",
    "    img = img.crop((left, top, right, bottom))\n",
    "    img = img.resize((224, 224), Image.ANTIALIAS)\n",
    "\n",
    "    # convert to numpy.ndarray\n",
    "    sample = np.asarray(img)  \n",
    "    # swap axes to make image from (224, 224, 3) to (3, 224, 224)\n",
    "    sample = np.swapaxes(sample, 0, 2)\n",
    "    sample = np.swapaxes(sample, 1, 2)\n",
    "    sample = sample[np.newaxis, :] \n",
    "    print sample.shape\n",
    "\n",
    "    # sub mean? \n",
    "    normed_img = sample - mean_rgb\n",
    "    normed_img = normed_img.reshape((1, 3, 224, 224))\n",
    "\n",
    "    mod.forward(Batch([mx.nd.array(normed_img)]), is_train=False)\n",
    "    prob = mod.get_outputs()[0] \n",
    "    #prob = prob.asnumpy()[0]\n",
    "    #pred = np.argsort(prob)[::-1]\n",
    "    # .asnumpy() seems to fail of large arrays.\n",
    "    pred = mx.ndarray.argsort(prob[0])\n",
    "    pred = pred.asnumpy()[::-1]\n",
    "    #print \"PRED\", pred\n",
    "    idx = pred[0]\n",
    "    idx = int(idx)\n",
    "    lat, lng = grids[idx] #top result\n",
    "    # lat, lng\n",
    "    return lat, lng\n",
    "\n",
    "def lambda_handler(event, context):\n",
    "\n",
    "    #url = 'http://www.japantimes.co.jp/wp-content/uploads/2016/03/n-tower-e-20160302.jpg'\n",
    "    url = None \n",
    "    data_url = None\n",
    "\n",
    "    try:\n",
    "        # API Gateway GET method\n",
    "        print \"Request Method:\", event['httpMethod']\n",
    "        if event['httpMethod'] == 'GET':\n",
    "            url = event['queryStringParameters']['url']\n",
    "        #API Gateway POST method\n",
    "        elif event['httpMethod'] == 'POST':\n",
    "            data = json.loads(event['body'])\n",
    "            if data.has_key('dataurl'):\n",
    "                data_url = data['dataurl']\n",
    "            else:\n",
    "                url = data['url']\n",
    "            \n",
    "    except KeyError:\n",
    "        # direct invocation\n",
    "        url = event['url']\n",
    "\n",
    "    print \"URL:\" , url\n",
    "    lat, lng = predict(url, data_url)\n",
    "    latlng = \"%s, %s\" % (lat,lng)\n",
    "    loc = geolocator.reverse(latlng)\n",
    "    print \"LOC:\" , loc \n",
    "    \n",
    "    out = {\n",
    "            \"headers\": {\n",
    "                \"content-type\": \"application/json\",\n",
    "                \"Access-Control-Allow-Origin\": \"*\"\n",
    "                },\n",
    "            \"body\": '{\"address\": \"%s\", \"latlng\": \"%s\"}' % (loc[0], loc[1]),  \n",
    "            \"statusCode\": 200\n",
    "          }\n",
    "    return out"
   ]
  },
  {
   "cell_type": "code",
   "execution_count": 2,
   "metadata": {
    "collapsed": false,
    "deletable": true,
    "editable": true
   },
   "outputs": [
    {
     "name": "stdout",
     "output_type": "stream",
     "text": [
      "\n"
     ]
    }
   ],
   "source": [
    "# Package code and upload \n",
    "\n",
    "# refer for more info: http://ipython.readthedocs.io/en/stable/interactive/reference.html?highlight=input%20caching\n",
    "\n",
    "content = _ih[-2] # Get the input from the previous cell execution \n",
    "fname = \"lambda_function.py\"\n",
    "\n",
    "with open(fname, 'w') as f:\n",
    "    f.write(content)"
   ]
  },
  {
   "cell_type": "code",
   "execution_count": null,
   "metadata": {
    "collapsed": false,
    "deletable": true,
    "editable": true
   },
   "outputs": [],
   "source": [
    "# NOTE: Pre-requisities (AWS CLI) and appropriate config credentials \n",
    "code_zip_name = 'mxnet_lambda_code.zip'\n",
    "\n",
    "# Create a zip file with all of MXNet dependencies (-Fsr : Only sync updated files)\n",
    "!zip -9r -FSr $code_zip_name * -x *.zip "
   ]
  },
  {
   "cell_type": "code",
   "execution_count": null,
   "metadata": {
    "collapsed": false,
    "deletable": true,
    "editable": true
   },
   "outputs": [],
   "source": [
    "func_name = \"MX-LAMBDA-GEOLOCATION-LambdaFunction-5MR66LKLX01L\"\n",
    "!aws lambda update-function-code --function-name $func_name --zip-file fileb://$code_zip_name  --region us-west-2"
   ]
  },
  {
   "cell_type": "markdown",
   "metadata": {
    "deletable": true,
    "editable": true
   },
   "source": [
    "# Swagger File"
   ]
  },
  {
   "cell_type": "code",
   "execution_count": 5,
   "metadata": {
    "collapsed": true,
    "deletable": true,
    "editable": true
   },
   "outputs": [],
   "source": [
    "account_id = 'MY_ACC_ID'\n",
    "region = 'us-west-2'\n",
    "\n",
    "!sed -e 's/<<region>>/$region/g' swagger.yaml.template > swagger.yaml\n",
    "!sed -i -e 's/<<account-id>>/$account_id/g' swagger.yaml"
   ]
  },
  {
   "cell_type": "markdown",
   "metadata": {
    "deletable": true,
    "editable": true
   },
   "source": [
    "# Upload Code and YAML files to S3"
   ]
  },
  {
   "cell_type": "code",
   "execution_count": 6,
   "metadata": {
    "collapsed": false,
    "deletable": true,
    "editable": true
   },
   "outputs": [
    {
     "name": "stdout",
     "output_type": "stream",
     "text": [
      "upload: ./mxnet_lambda_code.zip to s3://smallya-testw/samtest/mxnet_lambda_code.zip\n",
      "upload: ./swagger.yaml to s3://smallya-testw/samtest/swagger.yaml\n"
     ]
    }
   ],
   "source": [
    "bucket_loc = \"s3://smallya-testw/samtest/\" # **NOTE** Make sure bucket is in the same region as region above\n",
    "!aws s3 cp $code_zip_name $bucket_loc\n",
    "!aws s3 cp swagger.yaml $bucket_loc"
   ]
  },
  {
   "cell_type": "markdown",
   "metadata": {
    "deletable": true,
    "editable": true
   },
   "source": [
    "# Template File"
   ]
  },
  {
   "cell_type": "code",
   "execution_count": 7,
   "metadata": {
    "collapsed": false,
    "deletable": true,
    "editable": true
   },
   "outputs": [],
   "source": [
    "definition_url = bucket_loc + 'swagger.yaml' # swagger file location in s3\n",
    "code_uri = bucket_loc + code_zip_name  # code location in s3\n",
    "definition_url = definition_url.replace(':', '\\:').replace('/', '\\/')\n",
    "code_uri = code_uri.replace(':', '\\:').replace('/', '\\/')\n",
    "\n",
    "!sed -e 's/<<def-uri>>/$definition_url/g' template.yaml.template > template.yaml\n",
    "!sed -i -e 's/<<code-uri>>/$code_uri/g' template.yaml"
   ]
  },
  {
   "cell_type": "markdown",
   "metadata": {
    "deletable": true,
    "editable": true
   },
   "source": [
    "# Deply using SAM "
   ]
  },
  {
   "cell_type": "code",
   "execution_count": 8,
   "metadata": {
    "collapsed": false,
    "deletable": true,
    "editable": true
   },
   "outputs": [
    {
     "name": "stdout",
     "output_type": "stream",
     "text": [
      "\r\n",
      "Successfully packaged artifacts and wrote output template to file template-out.yaml.\r\n",
      "Execute the following command to deploy the packaged template\r\n",
      "aws cloudformation deploy --template-file /home/ubuntu/workspace/geolocation/lambda-sam/template-out.yaml --stack-name <YOUR STACK NAME>\r\n"
     ]
    }
   ],
   "source": [
    "!aws cloudformation package \\\n",
    " --template-file template.yaml \\\n",
    " --output-template-file template-out.yaml \\\n",
    " --s3-bucket $bucket_loc"
   ]
  },
  {
   "cell_type": "code",
   "execution_count": 10,
   "metadata": {
    "collapsed": false,
    "deletable": true,
    "editable": true
   },
   "outputs": [
    {
     "name": "stdout",
     "output_type": "stream",
     "text": [
      "Waiting for changeset to be created..\n",
      "Waiting for stack create/update to complete\n",
      "Successfully created/updated stack - MX-LAMBDA-GEOLOCATION\n"
     ]
    }
   ],
   "source": [
    "stack_name = \"MX-LAMBDA-GEOLOCATION\"\n",
    "\n",
    "!aws cloudformation deploy \\\n",
    "--template-file template-out.yaml \\\n",
    "--stack-name $stack_name \\\n",
    "--capabilities CAPABILITY_IAM \\\n",
    "--region $region"
   ]
  },
  {
   "cell_type": "code",
   "execution_count": 11,
   "metadata": {
    "collapsed": false,
    "deletable": true,
    "editable": true
   },
   "outputs": [
    {
     "name": "stdout",
     "output_type": "stream",
     "text": [
      "['https://laktzr3bd2.execute-api.us-west-2.amazonaws.com/prod']\n"
     ]
    }
   ],
   "source": [
    "api_endpoint = !aws cloudformation describe-stacks --stack-name $stack_name --region $region | python -c 'import json,sys;obj=json.load(sys.stdin);print obj[\"Stacks\"][0][\"Outputs\"][0][\"OutputValue\"];'\n",
    "print api_endpoint"
   ]
  },
  {
   "cell_type": "markdown",
   "metadata": {
    "deletable": true,
    "editable": true
   },
   "source": [
    "<img src='https://www.svalbardblues.com/wp-content/uploads/2015/09/Longyearbyen-Svalbard-Spitsbergen-DSB.jpg'/>"
   ]
  },
  {
   "cell_type": "code",
   "execution_count": 187,
   "metadata": {
    "collapsed": false,
    "deletable": true,
    "editable": true
   },
   "outputs": [
    {
     "name": "stdout",
     "output_type": "stream",
     "text": [
      "https://laktzr3bd2.execute-api.us-west-2.amazonaws.com/prod/predict?url=https://www.svalbardblues.com/wp-content/uploads/2015/09/Longyearbyen-Svalbard-Spitsbergen-DSB.jpg\n",
      "{\"address\": \"Svalbard, Norge\", \"latlng\": \"(78.7198519, 20.3493328)\"}"
     ]
    }
   ],
   "source": [
    "import requests\n",
    "import json\n",
    "\n",
    "img_url = 'https://www.svalbardblues.com/wp-content/uploads/2015/09/Longyearbyen-Svalbard-Spitsbergen-DSB.jpg'\n",
    "#api_endpoint = ['https://udgz5whroh.execute-api.us-east-1.amazonaws.com/prod']\n",
    "#api_endpoint = ['https://jlym62q78c.execute-api.us-west-2.amazonaws.com/prod']\n",
    "url = api_endpoint[0]+ \"/predict?url=\" + img_url\n",
    "\n",
    "print url\n",
    "\n",
    "# Lets curl and test the endpoint\n",
    "!curl $url"
   ]
  },
  {
   "cell_type": "code",
   "execution_count": 220,
   "metadata": {
    "collapsed": false,
    "deletable": true,
    "editable": true
   },
   "outputs": [
    {
     "name": "stdout",
     "output_type": "stream",
     "text": [
      "{\"address\": \"IAC Building, 11th Avenue, Chelsea, Manhattan Community Board 4, New York County, NYC, New York, 10011, United States of America\", \"latlng\": \"(40.74557055, -74.0077509293129)\"}"
     ]
    }
   ],
   "source": [
    "import requests\n",
    "import json\n",
    "\n",
    "img_url = 'http://www.liveroof.com/wp-content/uploads/2015/01/Javits-Center_Exterior-Dusk_DS1-990x360.jpg'\n",
    "#img_url = 'https://www.svalbardblues.com/wp-content/uploads/2015/09/Longyearbyen-Svalbard-Spitsbergen-DSB.jpg'\n",
    "\n",
    "#api_endpoint = ['https://udgz5whroh.execute-api.us-east-1.amazonaws.com/prod']\n",
    "url = api_endpoint[0]+ \"/predict?url=\" + img_url\n",
    "\n",
    "# Lets curl and test the endpoint\n",
    "!curl $url"
   ]
  }
 ],
 "metadata": {
  "kernelspec": {
   "display_name": "Python 2",
   "language": "python",
   "name": "python2"
  },
  "language_info": {
   "codemirror_mode": {
    "name": "ipython",
    "version": 2
   },
   "file_extension": ".py",
   "mimetype": "text/x-python",
   "name": "python",
   "nbconvert_exporter": "python",
   "pygments_lexer": "ipython2",
   "version": "2.7.6"
  }
 },
 "nbformat": 4,
 "nbformat_minor": 2
}
